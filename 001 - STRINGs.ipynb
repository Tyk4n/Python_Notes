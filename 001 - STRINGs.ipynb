{
 "cells": [
  {
   "cell_type": "code",
   "execution_count": 136,
   "metadata": {},
   "outputs": [
    {
     "name": "stdout",
     "output_type": "stream",
     "text": [
      "<class 'str'> <class 'str'>\n",
      "True\n"
     ]
    }
   ],
   "source": [
    "# 1. Declaring string values\n",
    "\n",
    "string1 = \"This is a\"\n",
    "string2 = 'string!'\n",
    "\n",
    "print(type(string1), type(string2)) # the type() command can be used to identify the type of variable\n",
    "\n",
    "# Usage:\n",
    "if type(string1) == str:\n",
    "    print(True)"
   ]
  },
  {
   "cell_type": "code",
   "execution_count": 137,
   "metadata": {},
   "outputs": [
    {
     "name": "stdout",
     "output_type": "stream",
     "text": [
      "This is astring!\n",
      "This is a string!\n"
     ]
    }
   ],
   "source": [
    "#2. Concatinating strings\n",
    "\n",
    "concat1 = string1+string2\n",
    "concat2 = string1 + ' ' + string2\n",
    "\n",
    "print(concat1)\n",
    "print(concat2)  # a space might be needed to make the string readable."
   ]
  },
  {
   "cell_type": "code",
   "execution_count": 138,
   "metadata": {},
   "outputs": [
    {
     "name": "stdout",
     "output_type": "stream",
     "text": [
      "This is astring!\n",
      "is is astring!\n",
      "is \n",
      "Thi\n",
      "g!\n",
      "This is astrin\n"
     ]
    }
   ],
   "source": [
    "#3. Slicing\n",
    "\n",
    "#   get a subsection of a string, first element's index starts with 0\n",
    "\n",
    "print(string3[:])       #Print the whole string\n",
    "print(string3[2:])      #Print from the 2nd element (inclusive) to the end\n",
    "print(string3[2:5])     #Print from the 2nd element (inclusive) to the 5th element (exclusive)\n",
    "print(string3[:3])      #Print from the beginning to the 3rd element(exclusive)\n",
    "\n",
    "# Negative means start from the end of the string\n",
    "print(string3[-2:])     #Print from the -2nd element (exclusive) to the end\n",
    "print(string3[:-2])     #Print from the beginning to the the 2nd element from the end (exclusive)"
   ]
  },
  {
   "cell_type": "code",
   "execution_count": 139,
   "metadata": {},
   "outputs": [
    {
     "name": "stdout",
     "output_type": "stream",
     "text": [
      "     this is a test string     \n",
      "this is a test string\n",
      "### this is another test string ###\n",
      " this is another test string \n",
      "this is another test string\n"
     ]
    }
   ],
   "source": [
    "#4. strip([chars])\n",
    "\n",
    "#   Return a copy of the string with the leading and trailing characters removed. \n",
    "#   The chars argument is a string specifying the set of characters to be removed. \n",
    "#   If omitted or None, the chars argument defaults to removing whitespace.\n",
    "\n",
    "string4 = '     this is a test string 4     '\n",
    "print(string4)\n",
    "print(string4.strip())\n",
    "\n",
    "string4 = '### this is another test string 4 ###'\n",
    "print(string4)\n",
    "print(string4.strip('#'))   # You can specify what leading/tailing character to look for.\n",
    "print(string4.strip('#').strip())"
   ]
  },
  {
   "cell_type": "code",
   "execution_count": 140,
   "metadata": {},
   "outputs": [
    {
     "name": "stdout",
     "output_type": "stream",
     "text": [
      "-*-*-* This is a test of lstrip and rstrip *-*-*-\n",
      " This is a test of lstrip and rstrip *-*-*-\n",
      "-*-*-* This is a test of lstrip and rstrip \n"
     ]
    }
   ],
   "source": [
    "#5. lstrip() and rstrip()\n",
    "#   same function as strip, but can specify leading or tailing.\n",
    "\n",
    "string5 = '-*-*-* This is a test of lstrip and rstrip *-*-*-'\n",
    "print(string5)\n",
    "print(string5.lstrip('-*'))     # lstrip() = strip from the leading side only\n",
    "print(string5.rstrip('*-'))     # rstrip() = strip from the tailing side only"
   ]
  },
  {
   "cell_type": "code",
   "execution_count": 141,
   "metadata": {},
   "outputs": [
    {
     "name": "stdout",
     "output_type": "stream",
     "text": [
      "ee!\n",
      "three!\n"
     ]
    }
   ],
   "source": [
    "#6. remvoveprefix()\n",
    "#\n",
    "\n",
    "string6 = 'Arthur: three!'\n",
    "print(string6.lstrip('Arthur: '))       # because lstrip will look for ANY character specified it might remove too much info\n",
    "print(string6.removeprefix('Arthur: ')) # removeprefix() removed just the leading instance of the whole pharse specified."
   ]
  },
  {
   "cell_type": "code",
   "execution_count": 142,
   "metadata": {},
   "outputs": [
    {
     "name": "stdout",
     "output_type": "stream",
     "text": [
      "Hell\n",
      "Hello\n"
     ]
    }
   ],
   "source": [
    "#7. removesuffix()\n",
    "\n",
    "string7 = 'HelloPython'\n",
    "print(string7.rstrip('Python'))         #Same with lstrip, rstrip might remove too much.\n",
    "print(string7.removesuffix('Python'))   #remove suffux will look for the whole word to remove."
   ]
  },
  {
   "cell_type": "code",
   "execution_count": 143,
   "metadata": {},
   "outputs": [
    {
     "name": "stdout",
     "output_type": "stream",
     "text": [
      "This is string number eight\n",
      "Th!s !s str!ng number e!ght\n",
      "Th!5 !5 string number eight\n"
     ]
    }
   ],
   "source": [
    "#8. replace()\n",
    "#   replaces a character(s) with another specified character(s)\n",
    "\n",
    "string8 = 'This is string number eight'\n",
    "print(string8)\n",
    "print(string8.replace('i','!'))\n",
    "print(string8.replace('is','!5'))"
   ]
  },
  {
   "cell_type": "code",
   "execution_count": 144,
   "metadata": {},
   "outputs": [
    {
     "name": "stdout",
     "output_type": "stream",
     "text": [
      "string-----method-in-python\n",
      "string-method-in-python\n"
     ]
    }
   ],
   "source": [
    "# 9. re.sub()\n",
    "#   using the re library for regex, you can subsitute/repleace characters wiht more granualarity.\n",
    "\n",
    "string9 = 'string     method in python'\n",
    "print(string9.replace(' ', '-'))    # replace will add in 5 '-' for the 5 ' '\n",
    "\n",
    "import re\n",
    "print(re.sub('\\s+', '-', string9))  # with re.sub() you can subsititue 1 ore more spaces '\\s+' with '-'"
   ]
  },
  {
   "cell_type": "code",
   "execution_count": 145,
   "metadata": {},
   "outputs": [
    {
     "name": "stdout",
     "output_type": "stream",
     "text": [
      "this is string X!\n",
      "['this', 'is', 'string', 'X!']\n",
      "['this', 'string X!']\n",
      "['this', 'is', 'string X!']\n"
     ]
    }
   ],
   "source": [
    "#10. split()\n",
    "#   creates a list from a string\n",
    "\n",
    "string10 = 'this is string X!'\n",
    "print(string10)\n",
    "print(string10.split())     # by default the delimiting character will be a ' '\n",
    "print(string10.split(' is ')) # a specific delimiter can be verified, notice the delimiter is lost\n",
    "\n",
    "print(string10.split(' ', maxsplit=2)) # specifiy the number of maxsplits allowed starting from the left."
   ]
  },
  {
   "cell_type": "code",
   "execution_count": 146,
   "metadata": {},
   "outputs": [
    {
     "name": "stdout",
     "output_type": "stream",
     "text": [
      "this is string XI!\n",
      "['this', 'is', 'string', 'XI!']\n",
      "['this', 'string XI!']\n",
      "['this is', 'string', 'XI!']\n"
     ]
    }
   ],
   "source": [
    "#11. rsplit()\n",
    "#   functions the same as split(), but starting from the right.\n",
    "\n",
    "string11 = 'this is string XI!'\n",
    "print(string11)\n",
    "print(string11.rsplit())\n",
    "print(string11.rsplit(' is '))\n",
    "print(string11.rsplit(' ', maxsplit=2))"
   ]
  },
  {
   "cell_type": "code",
   "execution_count": 147,
   "metadata": {},
   "outputs": [
    {
     "name": "stdout",
     "output_type": "stream",
     "text": [
      "['this', 'is', 'example', 'number', 'XII!']\n",
      "thisisexamplenumberXII!\n",
      "this is example number XII!\n",
      "this-is-example-number-XII!\n",
      "this_-_is_-_example_-_number_-_XII!\n"
     ]
    }
   ],
   "source": [
    "# 12. join()\n",
    "#   combines a list into a string\n",
    "\n",
    "list12 = ['this', 'is', 'example', 'number', 'XII!']\n",
    "print(list12)\n",
    "print(''.join(list12))  # by default join() will just combine all the elements into a string\n",
    "print(' '.join(list12)) # a space can be added to break up the elements can be specified.\n",
    "print('-'.join(list12)) # a specific character to break up the elements can be specified.\n",
    "print('_-_'.join(list12))   # multiple characeter can be used to break for the elements."
   ]
  },
  {
   "cell_type": "code",
   "execution_count": 148,
   "metadata": {},
   "outputs": [
    {
     "name": "stdout",
     "output_type": "stream",
     "text": [
      "StRiNg13\n",
      "STRING13\n"
     ]
    }
   ],
   "source": [
    "#13. upper()\n",
    "\n",
    "string13 = 'StRiNg13'\n",
    "print(string13)\n",
    "print(string13.upper()) # changes all the letters to uppercase"
   ]
  },
  {
   "cell_type": "code",
   "execution_count": 149,
   "metadata": {},
   "outputs": [
    {
     "name": "stdout",
     "output_type": "stream",
     "text": [
      "StRiNg14\n",
      "string14\n"
     ]
    }
   ],
   "source": [
    "#14. lower()\n",
    "\n",
    "string14 = 'StRiNg14'\n",
    "print(string14)\n",
    "print(string14.lower()) # changes all the letters to lowercase"
   ]
  },
  {
   "cell_type": "code",
   "execution_count": 150,
   "metadata": {},
   "outputs": [
    {
     "name": "stdout",
     "output_type": "stream",
     "text": [
      "test stRiNg15\n",
      "Test string15\n"
     ]
    }
   ],
   "source": [
    "#15. capitalize()\n",
    "\n",
    "string15 = 'test stRiNg15'\n",
    "print(string15)\n",
    "print(string15.capitalize())    # capitalizes the first letter of every word"
   ]
  },
  {
   "cell_type": "code",
   "execution_count": 151,
   "metadata": {},
   "outputs": [
    {
     "name": "stdout",
     "output_type": "stream",
     "text": [
      "True\n",
      "False\n",
      "False\n"
     ]
    }
   ],
   "source": [
    "#16. isupper()\n",
    "\n",
    "string16a = \"THIS IS TEST 16\"\n",
    "string16b = 'this is test 16'\n",
    "string16c = 'THIS is TEST 16'\n",
    "\n",
    "print(string16a.isupper())  # prints true because all the caracters in the string are uppercase\n",
    "print(string16b.isupper())  # prints False because not all the character in the string are uppercase\n",
    "print(string16c.isupper())  # prints False because not all the character in the string are uppercase"
   ]
  },
  {
   "cell_type": "code",
   "execution_count": 152,
   "metadata": {},
   "outputs": [
    {
     "name": "stdout",
     "output_type": "stream",
     "text": [
      "False\n",
      "True\n",
      "False\n"
     ]
    }
   ],
   "source": [
    "#17. islower()\n",
    "\n",
    "string17a = \"THIS IS TEST 17\"\n",
    "string17b = 'this is test 17'\n",
    "string17c = 'THIS is TEST 17'\n",
    "\n",
    "print(string17a.islower())  # prints False because not all the character in the string are lowercase\n",
    "print(string17b.islower())  # prints True because all the character in the string are lowercase\n",
    "print(string17c.islower())  # prints False because not all the character in the string are lowercase"
   ]
  },
  {
   "cell_type": "code",
   "execution_count": 153,
   "metadata": {},
   "outputs": [
    {
     "name": "stdout",
     "output_type": "stream",
     "text": [
      "True\n",
      "False\n",
      "False\n"
     ]
    }
   ],
   "source": [
    "#18. isalpha()\n",
    "\n",
    "string18a = 'Eighteen'\n",
    "string18b = '18'\n",
    "string18c = '8teen'\n",
    "\n",
    "print(string18a.isalpha())  # Print True becasue all the caracters in the string is alphabetical\n",
    "print(string18b.isalpha())  # Print False becasue not all the caracters in the string is alphabetical\n",
    "print(string18c.isalpha())  # Print False becasue not all the caracters in the string is alphabetical"
   ]
  },
  {
   "cell_type": "code",
   "execution_count": 154,
   "metadata": {},
   "outputs": [
    {
     "name": "stdout",
     "output_type": "stream",
     "text": [
      "False\n",
      "True\n",
      "False\n"
     ]
    }
   ],
   "source": [
    "#19. isnumeric()\n",
    "\n",
    "string19a = 'nineteen'\n",
    "string19b = '19'\n",
    "string19c = '9teen'\n",
    "\n",
    "print(string19a.isnumeric())  # Print False becasue not all the caracters in the string are numebers\n",
    "print(string19b.isnumeric())  # Print True becasue all the caracters in the string are numbers\n",
    "print(string19c.isnumeric())  # Print False becasue not all the caracters in the string are numebers"
   ]
  },
  {
   "cell_type": "code",
   "execution_count": 155,
   "metadata": {},
   "outputs": [
    {
     "name": "stdout",
     "output_type": "stream",
     "text": [
      "True\n",
      "True\n",
      "True\n",
      "False\n"
     ]
    }
   ],
   "source": [
    "#20. isalnum()\n",
    "\n",
    "string20a = 'twenty'\n",
    "string20b = '20'\n",
    "string20c = 'tw3nty'\n",
    "string20d = 'twenty!'\n",
    "\n",
    "print(string20a.isalnum())  # Print True becasue all the caracters in the string are numbers or alphabetical\n",
    "print(string20b.isalnum())  # Print True becasue all the caracters in the string are numbers or alphabetical\n",
    "print(string20c.isalnum())  # Print True becasue all the caracters in the string are numbers or alphabetical\n",
    "print(string20d.isalnum())  # Print False becasue not all the caracters in the string are numbers or alphabetical"
   ]
  },
  {
   "cell_type": "code",
   "execution_count": 156,
   "metadata": {},
   "outputs": [
    {
     "name": "stdout",
     "output_type": "stream",
     "text": [
      "This is example number 21\n",
      "2\n",
      "3\n"
     ]
    }
   ],
   "source": [
    "#21. count()\n",
    "\n",
    "string21 = 'This is example number 21'\n",
    "\n",
    "print(string21)\n",
    "print(string21.count('i'))  # count the number of 'i' in the string\n",
    "print(string21.count('e'))  # count the bumber of 'e' in the string"
   ]
  },
  {
   "cell_type": "code",
   "execution_count": 157,
   "metadata": {},
   "outputs": [
    {
     "name": "stdout",
     "output_type": "stream",
     "text": [
      "This is string number 22\n",
      "2\n",
      "4\n",
      "22\n"
     ]
    }
   ],
   "source": [
    "#22. find()\n",
    "\n",
    "string22 = 'This is string number 22'\n",
    "print(string22)\n",
    "print(string22.find('i'))  # print the index when 'i' is found in the string\n",
    "print(string22.find(' i')) # notice whitespace matters\n",
    "print(string22.find('22'))"
   ]
  },
  {
   "cell_type": "code",
   "execution_count": 158,
   "metadata": {},
   "outputs": [
    {
     "name": "stdout",
     "output_type": "stream",
     "text": [
      "This is string number 22\n",
      "11\n",
      "4\n",
      "22\n"
     ]
    }
   ],
   "source": [
    "#23. rfind()\n",
    "#   reverse find, starts searching from the right\n",
    "\n",
    "string23 = 'This is string number 22'\n",
    "print(string23)\n",
    "print(string23.rfind('i'))  # print the index when 'is' is found in the string\n",
    "print(string23.rfind(' i')) # notice whitespace matters\n",
    "print(string23.rfind('22'))"
   ]
  },
  {
   "cell_type": "code",
   "execution_count": 159,
   "metadata": {},
   "outputs": [
    {
     "name": "stdout",
     "output_type": "stream",
     "text": [
      "This is string 24\n",
      "True\n",
      "False\n"
     ]
    }
   ],
   "source": [
    "#24. startswith()\n",
    "\n",
    "string24 = 'This is string 24'\n",
    "print(string24)\n",
    "print(string24.startswith('This'))  # Returns True, because string24 starts with 'This'\n",
    "print(string24.startswith('THis'))  # Note: Capitalization matters"
   ]
  },
  {
   "cell_type": "code",
   "execution_count": 160,
   "metadata": {},
   "outputs": [
    {
     "name": "stdout",
     "output_type": "stream",
     "text": [
      "This is string 25\n",
      "True\n",
      "False\n"
     ]
    }
   ],
   "source": [
    "#25. endswith()\n",
    "\n",
    "string25 = 'This is string 25'\n",
    "print(string25)\n",
    "print(string25.endswith('g 25'))    # Returns True, because string24 ends with 'g 24' \n",
    "print(string25.endswith('G 25'))    # Note: Capilatizatino matters."
   ]
  },
  {
   "cell_type": "code",
   "execution_count": 161,
   "metadata": {},
   "outputs": [
    {
     "name": "stdout",
     "output_type": "stream",
     "text": [
      "This string is 26\n",
      "('This ', 'string', ' is 26')\n",
      "('Th', 'is', ' string is 26')\n"
     ]
    }
   ],
   "source": [
    "#26. partition()\n",
    "#   Splits a string into a list of 3 strings, requires 1 parameter that is a string.\n",
    "\n",
    "string26 = 'This string is 26'\n",
    "print(string26)\n",
    "print(string26.partition('string'))\n",
    "print(string26.partition('is'))"
   ]
  },
  {
   "cell_type": "code",
   "execution_count": 162,
   "metadata": {},
   "outputs": [
    {
     "name": "stdout",
     "output_type": "stream",
     "text": [
      "string27\n",
      "                     string27                     \n",
      "*********************string27*********************\n"
     ]
    }
   ],
   "source": [
    "# 27. center(width [,fillchar])\n",
    "\n",
    "#   Return centered in a string of length width. Padding is done using the specified fillchar \n",
    "#   (default is an ASCII space). The original string is returned if width is less than or equal to len(s).\n",
    "\n",
    "string27 = 'string27'\n",
    "print(string27)\n",
    "print(string27.center(50))      # center the text \n",
    "print(string27.center(50, '*')) # center text with a delimiter character that is used"
   ]
  },
  {
   "cell_type": "code",
   "execution_count": 163,
   "metadata": {},
   "outputs": [
    {
     "name": "stdout",
     "output_type": "stream",
     "text": [
      "string28\n",
      "string28                                          \n",
      "string28******************************************\n"
     ]
    }
   ],
   "source": [
    "# 28. ljust(width [,fillchar])\n",
    "\n",
    "#   Return the string left justified in a string of length width. \n",
    "#   Padding is done using the specified fillchar (default is an ASCII space). \n",
    "#   The original string is returned if width is less than or equal to len(s).\n",
    "\n",
    "string28 = 'string28'\n",
    "print(string28)\n",
    "print(string28.ljust(50))      # center the text \n",
    "print(string28.ljust(50, '*')) # center text with a delimiter character that is used"
   ]
  },
  {
   "cell_type": "code",
   "execution_count": 164,
   "metadata": {},
   "outputs": [
    {
     "name": "stdout",
     "output_type": "stream",
     "text": [
      "string29\n",
      "                                          string29\n",
      "******************************************string29\n"
     ]
    }
   ],
   "source": [
    "# 29. rjust(width [,fillchar])\n",
    "\n",
    "#   Return the string right justified in a string of length width. \n",
    "#   Padding is done using the specified fillchar (default is an ASCII space). \n",
    "#   The original string is returned if width is less than or equal to len(s).\n",
    "\n",
    "string29 = 'string29'\n",
    "print(string29)\n",
    "print(string29.rjust(50))      # center the text \n",
    "print(string29.rjust(50, '*')) # center text with a delimiter character that is used"
   ]
  },
  {
   "cell_type": "code",
   "execution_count": 165,
   "metadata": {},
   "outputs": [],
   "source": [
    "# 30. f-strings"
   ]
  },
  {
   "cell_type": "code",
   "execution_count": 166,
   "metadata": {},
   "outputs": [
    {
     "name": "stdout",
     "output_type": "stream",
     "text": [
      "String31\n",
      "sTRING31\n"
     ]
    }
   ],
   "source": [
    "# 31. swapcase()\n",
    "\n",
    "#   Return a copy of the string with uppercase characters converted to lowercase and vice versa.\n",
    "\n",
    "string31 = 'String31'\n",
    "print(string31)\n",
    "print(string31.swapcase())"
   ]
  },
  {
   "cell_type": "code",
   "execution_count": 1,
   "metadata": {},
   "outputs": [
    {
     "name": "stdout",
     "output_type": "stream",
     "text": [
      "32\n",
      "0000000032\n",
      "-32\n",
      "-000000032\n"
     ]
    }
   ],
   "source": [
    "# 32. zfill()\n",
    "\n",
    "#   Return a copy of the string left filled with ASCII '0' digits to make a string of length width. \n",
    "#   A leading sign prefix ('+'/'-') is handled by inserting the padding after the sign character \n",
    "#   rather than before. The original string is returned if width is less than or equal to len(s).\n",
    "\n",
    "print('32')\n",
    "print('32'.zfill(10))\n",
    "print('-32')\n",
    "print('-32'.zfill(10))"
   ]
  },
  {
   "cell_type": "code",
   "execution_count": 2,
   "metadata": {},
   "outputs": [
    {
     "name": "stdout",
     "output_type": "stream",
     "text": [
      "This Is sTring33a\n",
      "this is string33a\n",
      "this Is String33b\n",
      "this is string33b\n",
      "<class 'str'> <class 'str'>\n"
     ]
    }
   ],
   "source": [
    "#33. casefold()\n",
    "\n",
    "#   Return a casefolded copy of the string. Casefolded strings may be used for caseless matching. \n",
    "#   Casefolding is similar to lowercasing but more aggressive because it is intended to remove all \n",
    "#   case distinctions in a string.\n",
    "\n",
    "string33a = 'This Is sTring33a'\n",
    "string33b = 'this Is String33b'\n",
    "print(string33a)\n",
    "print(string33a.casefold())\n",
    "print(string33b)\n",
    "print(string33b.casefold())\n",
    "print(type(string33a.casefold()), type(string33b.casefold()))"
   ]
  },
  {
   "cell_type": "code",
   "execution_count": null,
   "metadata": {},
   "outputs": [],
   "source": []
  }
 ],
 "metadata": {
  "interpreter": {
   "hash": "aee8b7b246df8f9039afb4144a1f6fd8d2ca17a180786b69acc140d282b71a49"
  },
  "kernelspec": {
   "display_name": "Python 3.9.7 64-bit",
   "name": "python3"
  },
  "language_info": {
   "codemirror_mode": {
    "name": "ipython",
    "version": 3
   },
   "file_extension": ".py",
   "mimetype": "text/x-python",
   "name": "python",
   "nbconvert_exporter": "python",
   "pygments_lexer": "ipython3",
   "version": "3.8.2"
  },
  "orig_nbformat": 4
 },
 "nbformat": 4,
 "nbformat_minor": 2
}
